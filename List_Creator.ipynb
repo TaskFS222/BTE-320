{
  "nbformat": 4,
  "nbformat_minor": 0,
  "metadata": {
    "colab": {
      "provenance": [],
      "authorship_tag": "ABX9TyPpRm7eNWErWOMlojl/L5JJ",
      "include_colab_link": true
    },
    "kernelspec": {
      "name": "python3",
      "display_name": "Python 3"
    },
    "language_info": {
      "name": "python"
    }
  },
  "cells": [
    {
      "cell_type": "markdown",
      "metadata": {
        "id": "view-in-github",
        "colab_type": "text"
      },
      "source": [
        "<a href=\"https://colab.research.google.com/github/TaskFS222/BTE-320/blob/main/List_Creator.ipynb\" target=\"_parent\"><img src=\"https://colab.research.google.com/assets/colab-badge.svg\" alt=\"Open In Colab\"/></a>"
      ]
    },
    {
      "cell_type": "code",
      "execution_count": null,
      "metadata": {
        "id": "gpxQUExLY66w"
      },
      "outputs": [],
      "source": [
        "aList = []\n",
        "\n",
        "while(True):\n",
        "\n",
        "  try:\n",
        "    numToAdd = int(input(\"Write an integer number to put into the List, (press 0 to stop) \"))\n",
        "\n",
        "    if (numToAdd == 0):\n",
        "      break\n",
        "    else:\n",
        "      aList.append(numToAdd)\n",
        "  except:\n",
        "    print(\"Input not an Integer, try again! \")\n",
        "\n",
        "\n",
        "print(aList)"
      ]
    }
  ]
}