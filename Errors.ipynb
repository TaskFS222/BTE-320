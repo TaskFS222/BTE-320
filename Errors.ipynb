{
  "nbformat": 4,
  "nbformat_minor": 0,
  "metadata": {
    "colab": {
      "provenance": [],
      "authorship_tag": "ABX9TyOj4pHlgU1xyAdDvB1FMyok",
      "include_colab_link": true
    },
    "kernelspec": {
      "name": "python3",
      "display_name": "Python 3"
    },
    "language_info": {
      "name": "python"
    }
  },
  "cells": [
    {
      "cell_type": "markdown",
      "metadata": {
        "id": "view-in-github",
        "colab_type": "text"
      },
      "source": [
        "<a href=\"https://colab.research.google.com/github/TaskFS222/BTE-320/blob/main/Errors.ipynb\" target=\"_parent\"><img src=\"https://colab.research.google.com/assets/colab-badge.svg\" alt=\"Open In Colab\"/></a>"
      ]
    },
    {
      "cell_type": "code",
      "execution_count": null,
      "metadata": {
        "id": "RT_6JZvDLxZt",
        "colab": {
          "base_uri": "https://localhost:8080/"
        },
        "outputId": "80ae18b4-1938-4564-9b10-2f68420fa032"
      },
      "outputs": [
        {
          "output_type": "stream",
          "name": "stdout",
          "text": [
            "...werty\n",
            "Values must be numeric\n"
          ]
        }
      ],
      "source": [
        "#Unhandeld exception = Issue with program that ends in it crashing and you did not address this issue.\n",
        "#Keyword \"try:\"\n",
        "try:\n",
        "  a = float(input(\"...\"))\n",
        "  b = float(input(\"...:\"))\n",
        "  print(a/b)\n",
        "  print(\"Program Ends.\")\n",
        "except ZeroDivisionError:\n",
        "  print(\"Error Occured!\")\n",
        "except ValueError:\n",
        "  print(\"Values must be numeric\")"
      ]
    },
    {
      "cell_type": "code",
      "source": [
        "def avg(alist):\n",
        "  try:\n",
        "    return sum(alist) / len(alist)\n",
        "  except ZeroDivisionError:\n",
        "    print(\"List must have something in it\")\n",
        "  except TypeError:\n",
        "    print(\"alist must be in numeric type\")\n",
        "    return float('nan')\n",
        "  else:\n",
        "    print(\"All good\")\n",
        "  finally:\n",
        "    print(\"This will always be here\")\n",
        "alist = [1,2,3]\n",
        "avg(alist)\n",
        "\n"
      ],
      "metadata": {
        "colab": {
          "base_uri": "https://localhost:8080/"
        },
        "id": "SY7kxpPo2XTz",
        "outputId": "011f817f-bfee-41ac-e5ee-e3290923f3c6"
      },
      "execution_count": 24,
      "outputs": [
        {
          "output_type": "stream",
          "name": "stdout",
          "text": [
            "This will always be here\n"
          ]
        },
        {
          "output_type": "execute_result",
          "data": {
            "text/plain": [
              "2.0"
            ]
          },
          "metadata": {},
          "execution_count": 24
        }
      ]
    }
  ]
}