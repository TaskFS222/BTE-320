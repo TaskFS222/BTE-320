{
  "nbformat": 4,
  "nbformat_minor": 0,
  "metadata": {
    "colab": {
      "provenance": [],
      "authorship_tag": "ABX9TyO2GuNxUUIVC7V9YzmuBMy6",
      "include_colab_link": true
    },
    "kernelspec": {
      "name": "python3",
      "display_name": "Python 3"
    },
    "language_info": {
      "name": "python"
    }
  },
  "cells": [
    {
      "cell_type": "markdown",
      "metadata": {
        "id": "view-in-github",
        "colab_type": "text"
      },
      "source": [
        "<a href=\"https://colab.research.google.com/github/TaskFS222/BTE-320/blob/main/Object_Oriented_Programing_EWB.ipynb\" target=\"_parent\"><img src=\"https://colab.research.google.com/assets/colab-badge.svg\" alt=\"Open In Colab\"/></a>"
      ]
    },
    {
      "cell_type": "code",
      "execution_count": null,
      "metadata": {
        "id": "3jaPilYE7Lac"
      },
      "outputs": [],
      "source": [
        "# Inheritance is the idea that one object can take principles from a generic object that allow for branching to more explisit design types\n",
        "# Polymorphism we can reuse classes with same name of attributes and methods.\n",
        "# Aggregation"
      ]
    },
    {
      "cell_type": "code",
      "source": [
        "class Vehicle:\n",
        "  # This is the constructor method; needed to initialize the attributes of each object of the clas of vehicle\n",
        "  def __init__(self, speed, nav_system, propulstion, weight, dims):#First section must be left blank as a stand in for self\n",
        "    self.speed = speed #To define attribute always start with self. It is now an atribute of vehicle.\n",
        "    self.nav_system = nav_system\n",
        "    self.propulstion = propulstion\n",
        "    self.weight = weight\n",
        "    self.dims = dims\n"
      ],
      "metadata": {
        "id": "BQuI80OypLRP"
      },
      "execution_count": null,
      "outputs": []
    },
    {
      "cell_type": "code",
      "source": [
        "class Car:\n",
        " def __init__(self,make,model,year):\n",
        "  self.make = make\n",
        "  self.model = model\n",
        "  self.year = year\n",
        "  self.utility = 'HUV'\n",
        "\n",
        " def accelerate(self):\n",
        "  print(f'The {self.make} accelerates.')\n",
        "\n",
        " def decelerate(self):\n",
        "  print('The car decelerates.')"
      ],
      "metadata": {
        "id": "qjw0BpJF4zM9"
      },
      "execution_count": null,
      "outputs": []
    },
    {
      "cell_type": "code",
      "source": [
        "c = Car('Ford',150,2023)\n",
        "d = Car('Chrysler',300,2020)"
      ],
      "metadata": {
        "id": "D3quJjcs621Y"
      },
      "execution_count": null,
      "outputs": []
    },
    {
      "cell_type": "code",
      "source": [
        "c.accelerate()"
      ],
      "metadata": {
        "colab": {
          "base_uri": "https://localhost:8080/"
        },
        "id": "CW9M4SDG9jSe",
        "outputId": "f54e3ef4-7fcb-445f-d9ee-c072bcf70adb"
      },
      "execution_count": null,
      "outputs": [
        {
          "output_type": "stream",
          "name": "stdout",
          "text": [
            "The Ford accelerates.\n"
          ]
        }
      ]
    },
    {
      "cell_type": "code",
      "source": [
        "d.make"
      ],
      "metadata": {
        "colab": {
          "base_uri": "https://localhost:8080/",
          "height": 35
        },
        "id": "f1iii6fi-cXY",
        "outputId": "6e18461f-fcc5-4b58-91ad-89535b288838"
      },
      "execution_count": null,
      "outputs": [
        {
          "output_type": "execute_result",
          "data": {
            "text/plain": [
              "'Chrysler'"
            ],
            "application/vnd.google.colaboratory.intrinsic+json": {
              "type": "string"
            }
          },
          "metadata": {},
          "execution_count": 20
        }
      ]
    },
    {
      "cell_type": "code",
      "source": [
        "class Mortgage:\n",
        "  def __init__(self, initloanamount,term,rate):\n",
        "   self.initloanamount = initloanamount\n",
        "   self.term = term\n",
        "   self.__rate = rate #Two __ makes it so that it is private and can't be changed\n",
        "\n",
        "  def get_rate(self):\n",
        "   return self.__rate\n",
        "\n",
        "  def set_rate(self, newRate):\n",
        "    if newRate >= 0:\n",
        "     self.__rate = newRate\n",
        "    else:\n",
        "      print(\"Interest must be be non-negative\")\n",
        "\n",
        "\n",
        "  def payment(self):\n",
        "    realrate = self.__rate/100\n",
        "    monthly = self.term*12\n",
        "    pmt = self.initloanamount * (realrate*((1+realrate)**monthly))/(((1+realrate)**monthly)-1)\n",
        "    return(pmt)\n",
        "\n",
        "  def __str__(self):\n",
        "    return f\"<Term {self.term}>\"\n",
        "\n"
      ],
      "metadata": {
        "id": "5anThmd7_jqf"
      },
      "execution_count": null,
      "outputs": []
    },
    {
      "cell_type": "code",
      "source": [
        "m1 = Mortgage(100000,30,6)"
      ],
      "metadata": {
        "id": "9bre-Tp7NlLs"
      },
      "execution_count": null,
      "outputs": []
    },
    {
      "cell_type": "code",
      "source": [
        "m1.payment()"
      ],
      "metadata": {
        "colab": {
          "base_uri": "https://localhost:8080/"
        },
        "id": "NJdWF5FJOH0q",
        "outputId": "e4d19bf3-90af-4453-ab0b-fe6d5b3467df"
      },
      "execution_count": null,
      "outputs": [
        {
          "output_type": "execute_result",
          "data": {
            "text/plain": [
              "6000.000004656286"
            ]
          },
          "metadata": {},
          "execution_count": 38
        }
      ]
    },
    {
      "cell_type": "code",
      "source": [
        "print(m1)"
      ],
      "metadata": {
        "colab": {
          "base_uri": "https://localhost:8080/"
        },
        "id": "gtlSwHezwT_r",
        "outputId": "ab2c393f-30d4-45c3-f537-d8e2c889a1c1"
      },
      "execution_count": null,
      "outputs": [
        {
          "output_type": "stream",
          "name": "stdout",
          "text": [
            "<Term 30>\n"
          ]
        }
      ]
    },
    {
      "cell_type": "code",
      "source": [
        "m1.set_rate(5)\n",
        "m1.get_rate()"
      ],
      "metadata": {
        "colab": {
          "base_uri": "https://localhost:8080/"
        },
        "id": "9j-qYK2_Uds1",
        "outputId": "720eacd9-b17b-429e-d344-401207a3b2ae"
      },
      "execution_count": null,
      "outputs": [
        {
          "output_type": "execute_result",
          "data": {
            "text/plain": [
              "5"
            ]
          },
          "metadata": {},
          "execution_count": 72
        }
      ]
    },
    {
      "cell_type": "code",
      "source": [
        "class A:\n",
        "  def __init__(self,obj):\n",
        "    self.obj = obj\n",
        "\n",
        "  def whoAmI(self):\n",
        "    print(\"I am an instance of class A\")\n",
        "\n",
        "  def __str__(self): #Returns a string review this for the exam. Overloads standard output with this attirbute value style. For this class, you can use repr as str.\n",
        "   return f\"<attribute value: {self.obj}>\" #Check out lecture 9 when studying this\n",
        "  def __eq__(self, other):\n",
        "    return self.obj == other.obj\n",
        "  def __add__(self, other):\n",
        "    return self.obj + other.obj\n",
        "\n",
        "class B:\n",
        "  def __init__(self,obj):\n",
        "    self.obj = obj\n",
        "\n",
        "  def whoAmI(self):\n",
        "    print(\"I am an instance of class B\")\n",
        "a1 = A(2)\n",
        "a2 = A(5)\n",
        "b = B(4)"
      ],
      "metadata": {
        "id": "CPylHGGtpCMn"
      },
      "execution_count": null,
      "outputs": []
    },
    {
      "cell_type": "code",
      "source": [
        "a1 + a2"
      ],
      "metadata": {
        "colab": {
          "base_uri": "https://localhost:8080/"
        },
        "id": "U3IlQ9h7tqKz",
        "outputId": "adfad20c-bf88-4010-f3ac-c377acaf94ec"
      },
      "execution_count": null,
      "outputs": [
        {
          "output_type": "execute_result",
          "data": {
            "text/plain": [
              "7"
            ]
          },
          "metadata": {},
          "execution_count": 12
        }
      ]
    },
    {
      "cell_type": "code",
      "source": [
        "b.whoAmI()"
      ],
      "metadata": {
        "colab": {
          "base_uri": "https://localhost:8080/"
        },
        "id": "PpVjEq3OpbQw",
        "outputId": "34a43f26-e259-4779-c165-545bfe01fa82"
      },
      "execution_count": null,
      "outputs": [
        {
          "output_type": "stream",
          "name": "stdout",
          "text": [
            "I am an instance of class B\n"
          ]
        }
      ]
    },
    {
      "cell_type": "code",
      "source": [
        "x = 2\n",
        "print(a)"
      ],
      "metadata": {
        "colab": {
          "base_uri": "https://localhost:8080/"
        },
        "id": "jVLgvFY5pfDk",
        "outputId": "fcc7d8e7-0a01-4822-d481-a9dfe6f7423e"
      },
      "execution_count": null,
      "outputs": [
        {
          "output_type": "stream",
          "name": "stdout",
          "text": [
            "<attribute value: 2>\n"
          ]
        }
      ]
    }
  ]
}
