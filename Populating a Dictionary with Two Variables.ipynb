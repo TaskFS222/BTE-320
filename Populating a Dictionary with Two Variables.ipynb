{
  "nbformat": 4,
  "nbformat_minor": 0,
  "metadata": {
    "colab": {
      "provenance": [],
      "authorship_tag": "ABX9TyNvqhFb7V81anXyInMq+JwG",
      "include_colab_link": true
    },
    "kernelspec": {
      "name": "python3",
      "display_name": "Python 3"
    },
    "language_info": {
      "name": "python"
    }
  },
  "cells": [
    {
      "cell_type": "markdown",
      "metadata": {
        "id": "view-in-github",
        "colab_type": "text"
      },
      "source": [
        "<a href=\"https://colab.research.google.com/github/TaskFS222/BTE-320/blob/main/Other_composite_objects.ipynb\" target=\"_parent\"><img src=\"https://colab.research.google.com/assets/colab-badge.svg\" alt=\"Open In Colab\"/></a>"
      ]
    },
    {
      "cell_type": "markdown",
      "source": [
        "Lists: Most widely used type of object\n",
        "Save and store them with anything we would like"
      ],
      "metadata": {
        "id": "18G_NZ2sb-Dp"
      }
    },
    {
      "cell_type": "code",
      "execution_count": null,
      "metadata": {
        "colab": {
          "base_uri": "https://localhost:8080/"
        },
        "id": "kf7sosLSb47g",
        "outputId": "df5fa59e-2899-47de-d7a3-0799a5ebea68"
      },
      "outputs": [
        {
          "output_type": "stream",
          "name": "stdout",
          "text": [
            "4\n"
          ]
        }
      ],
      "source": [
        "L = [1,\"two\",3.14,[5,7,9]]\n",
        "print(len(L))"
      ]
    },
    {
      "cell_type": "code",
      "source": [
        "print(L[-1])"
      ],
      "metadata": {
        "colab": {
          "base_uri": "https://localhost:8080/"
        },
        "id": "inVJmhsYdBSx",
        "outputId": "9298c67e-764c-49ed-de9a-d664950b7b20"
      },
      "execution_count": null,
      "outputs": [
        {
          "output_type": "stream",
          "name": "stdout",
          "text": [
            "[5, 7, 9]\n"
          ]
        }
      ]
    },
    {
      "cell_type": "code",
      "source": [
        "L + [\"three\",9.99,0] #Concatinate\n"
      ],
      "metadata": {
        "colab": {
          "base_uri": "https://localhost:8080/"
        },
        "id": "sZGyqmNDe6vj",
        "outputId": "e79eb3fc-d2df-466a-da42-54abcdc2a980"
      },
      "execution_count": null,
      "outputs": [
        {
          "output_type": "execute_result",
          "data": {
            "text/plain": [
              "[1, 'two', 3.14, [5, 7, 9], 'three', 9.99, 0]"
            ]
          },
          "metadata": {},
          "execution_count": 14
        }
      ]
    },
    {
      "cell_type": "code",
      "source": [
        "s = \"three\"\n",
        "s[1] = \"b\" #Lists are mutable, can be odified after you create them"
      ],
      "metadata": {
        "id": "MHeZUAxXgRN1"
      },
      "execution_count": null,
      "outputs": []
    },
    {
      "cell_type": "code",
      "source": [
        "print(L) #Example of lists being changed\n",
        "L[3] = \"b\"\n",
        "print(L)"
      ],
      "metadata": {
        "colab": {
          "base_uri": "https://localhost:8080/"
        },
        "id": "UxU3nk6ogl8H",
        "outputId": "1b3cfa11-bed1-4042-adfe-81cb6aa3836f"
      },
      "execution_count": null,
      "outputs": [
        {
          "output_type": "stream",
          "name": "stdout",
          "text": [
            "[1, 'two', 3.14, [5, 7, 9]]\n",
            "[1, 'two', 3.14, 'b']\n"
          ]
        }
      ]
    },
    {
      "cell_type": "code",
      "source": [
        "for x in L:\n",
        "  print(x)    #For loop designed for known number of iterations\n",
        "for index in range(len(L)):\n",
        "  print(L[index])\n"
      ],
      "metadata": {
        "colab": {
          "base_uri": "https://localhost:8080/"
        },
        "id": "4-hhmC-Mg8cZ",
        "outputId": "1be2798b-35dc-4ea0-e88a-47bfafb7bbb7"
      },
      "execution_count": null,
      "outputs": [
        {
          "output_type": "stream",
          "name": "stdout",
          "text": [
            "1\n",
            "two\n",
            "3.14\n",
            "b\n",
            "1\n",
            "two\n",
            "3.14\n",
            "b\n"
          ]
        }
      ]
    },
    {
      "cell_type": "code",
      "source": [
        "L2 = [[1,2,3],[4,5,6]]\n",
        "print(L2)"
      ],
      "metadata": {
        "colab": {
          "base_uri": "https://localhost:8080/"
        },
        "id": "_EHH5AkzjI0G",
        "outputId": "d71ad44e-e7e2-45e8-e85f-5464ecb85ad3"
      },
      "execution_count": null,
      "outputs": [
        {
          "output_type": "stream",
          "name": "stdout",
          "text": [
            "[[1, 2, 3], [4, 5, 6]]\n"
          ]
        }
      ]
    },
    {
      "cell_type": "code",
      "source": [
        "L2[1]\n",
        "L2[1][0]=7 #Indexing and assigning a new variable to the original 4. The 1 is to indicate the list and 0 for position in the sub list.\n",
        "print(L2)"
      ],
      "metadata": {
        "colab": {
          "base_uri": "https://localhost:8080/"
        },
        "id": "7Q6ygLYsjRbQ",
        "outputId": "43edb6b3-d10c-48be-d1f8-0203c91bd7c9"
      },
      "execution_count": null,
      "outputs": [
        {
          "output_type": "stream",
          "name": "stdout",
          "text": [
            "[[1, 2, 3], [7, 5, 6]]\n"
          ]
        }
      ]
    },
    {
      "cell_type": "code",
      "source": [
        "\n",
        "L + [\"Qwerty\"] #Concatination creates new list from scratch\n",
        "# Methods to add things to an existing list without creating a new list.\n",
        "# Variable.append(\"Whatever you are trying to add\")\n",
        "L.append([2,\"hehe\"])\n",
        "print(L)\n",
        "# .extend Adds items in a list to the original list seperately\n",
        "L.extend([\"for\",24])\n",
        "print(L)"
      ],
      "metadata": {
        "colab": {
          "base_uri": "https://localhost:8080/"
        },
        "id": "XWUiF_33vnVq",
        "outputId": "d0273e17-1a15-4aeb-c8b5-5aaaa8161495"
      },
      "execution_count": null,
      "outputs": [
        {
          "output_type": "stream",
          "name": "stdout",
          "text": [
            "[1, 'two', 3.14, [5, 7, 9], [2, 'hehe']]\n",
            "[1, 'two', 3.14, [5, 7, 9], [2, 'hehe'], 'for', 24]\n"
          ]
        }
      ]
    },
    {
      "cell_type": "code",
      "source": [
        "#Removing a part from a list. Using method .pop (Has default of -1)\n",
        "L = [1,\"two\",3.14,[5,7,9]]\n",
        "L.pop(2)\n",
        "print(L)"
      ],
      "metadata": {
        "colab": {
          "base_uri": "https://localhost:8080/"
        },
        "id": "d_9zAtDkyq4G",
        "outputId": "4fcc1b2e-fdc1-4ef9-c8e7-928804dc3642"
      },
      "execution_count": null,
      "outputs": [
        {
          "output_type": "stream",
          "name": "stdout",
          "text": [
            "[1, 'two', [5, 7, 9]]\n"
          ]
        }
      ]
    },
    {
      "cell_type": "code",
      "source": [
        "L = []\n",
        "while True:\n",
        "  userint = int(input(\"Insert int to add to list\"))\n",
        "  if userint == 0:\n",
        "    break\n",
        "  else:\n",
        "    L.append(userint)\n",
        "print(L)"
      ],
      "metadata": {
        "colab": {
          "base_uri": "https://localhost:8080/"
        },
        "id": "oVxQ5_hLz9bA",
        "outputId": "38755601-748f-4825-be0e-4094cda79df9"
      },
      "execution_count": null,
      "outputs": [
        {
          "output_type": "stream",
          "name": "stdout",
          "text": [
            "Insert int to add to list3\n",
            "Insert int to add to list0\n",
            "[3]\n"
          ]
        }
      ]
    },
    {
      "cell_type": "markdown",
      "source": [
        "Method sort sorts a list in assending order.\n",
        "L.sort() Assending order\n",
        "You can not sort a list which has strings in it"
      ],
      "metadata": {
        "id": "UTXS5UG3C829"
      }
    },
    {
      "cell_type": "markdown",
      "source": [],
      "metadata": {
        "id": "IQGXZPGwDdFA"
      }
    },
    {
      "cell_type": "code",
      "source": [
        "L = [4,3,5,8,4,8,1,2,]\n",
        "print(L)\n",
        "L.sort()\n",
        "print(L)\n",
        "L.sort(reverse=True)\n",
        "print(L)"
      ],
      "metadata": {
        "colab": {
          "base_uri": "https://localhost:8080/"
        },
        "id": "ZyhnJxTXDdfw",
        "outputId": "cdf117ad-fd92-4632-8837-5462cab489e2"
      },
      "execution_count": null,
      "outputs": [
        {
          "output_type": "stream",
          "name": "stdout",
          "text": [
            "[4, 3, 5, 8, 4, 8, 1, 2]\n",
            "[1, 2, 3, 4, 4, 5, 8, 8]\n",
            "[8, 8, 5, 4, 4, 3, 2, 1]\n"
          ]
        }
      ]
    },
    {
      "cell_type": "code",
      "source": [],
      "metadata": {
        "id": "AfZXqwHGET-R"
      },
      "execution_count": null,
      "outputs": []
    },
    {
      "cell_type": "markdown",
      "source": [
        "Tuples are imutable lists"
      ],
      "metadata": {
        "id": "88ZICY9oe6br"
      }
    },
    {
      "cell_type": "code",
      "source": [
        "t = (3,\"six\",80.8) # Tupel, all list functions and string functions work on them.\n",
        "len(t)\n",
        "t+t[:2] # You can not add lists to Tuples"
      ],
      "metadata": {
        "colab": {
          "base_uri": "https://localhost:8080/"
        },
        "id": "GwzLfKrGGymI",
        "outputId": "d938ef78-031c-485b-e422-231abbf21cda"
      },
      "execution_count": null,
      "outputs": [
        {
          "output_type": "execute_result",
          "data": {
            "text/plain": [
              "(3, 'six', 80.8, 3, 'six')"
            ]
          },
          "metadata": {},
          "execution_count": 4
        }
      ]
    },
    {
      "cell_type": "markdown",
      "source": [
        "Dictionaries do not follow a sequential order theory like strings, lists, and tupels. Dictionaries are composits"
      ],
      "metadata": {
        "id": "xrT-IJewdA_7"
      }
    },
    {
      "cell_type": "code",
      "source": [
        "grades = {\n",
        "    \"Nicolas\" :1,\n",
        "    \"Nathan\": 99, #Keys are immutable. So lists can not be keys. Values can be any type\n",
        "  }\n",
        "\n",
        "grades[\"Kai\"]=99 #Assignment operation to add something to the dictionairy or to update the assigned value of a key\n",
        "grades\n",
        "del grades [\"Nicolas\"] #del deletes a key and its value from the set\n",
        "grades\n",
        "grades[\"Nathan\"]"
      ],
      "metadata": {
        "colab": {
          "base_uri": "https://localhost:8080/"
        },
        "id": "G9CjuiVJJDmn",
        "outputId": "fcfa7fa7-5d87-416d-bbbb-83aa11fc9052"
      },
      "execution_count": null,
      "outputs": [
        {
          "output_type": "execute_result",
          "data": {
            "text/plain": [
              "99"
            ]
          },
          "metadata": {},
          "execution_count": 2
        }
      ]
    },
    {
      "cell_type": "code",
      "source": [
        "#for var1,var2 in Sequence\n",
        "#Method .keys() , .values() , .items 3 main functions to know\n",
        "grades = {\n",
        "    \"Nicolas\" :1,\n",
        "    \"Nathan\": 99,\n",
        "    \"Sam\":86,\n",
        "  }\n",
        "for key in grades.keys(): # . to use method\n",
        "  print(key)\n",
        "for values in grades.values():\n",
        "  print(values)\n",
        "for key, value in grades.items(): # Always comes out key, value\n",
        "  print(key,value)\n",
        "print(grades)"
      ],
      "metadata": {
        "colab": {
          "base_uri": "https://localhost:8080/"
        },
        "id": "n5MdXwT9gtwH",
        "outputId": "65175544-b6df-4b89-92ad-447ed8d3866f"
      },
      "execution_count": null,
      "outputs": [
        {
          "output_type": "stream",
          "name": "stdout",
          "text": [
            "Nicolas\n",
            "Nathan\n",
            "Sam\n",
            "1\n",
            "99\n",
            "86\n",
            "Nicolas 1\n",
            "Nathan 99\n",
            "Sam 86\n",
            "{'Nicolas': 1, 'Nathan': 99, 'Sam': 86}\n"
          ]
        }
      ]
    },
    {
      "cell_type": "code",
      "source": [
        "months = {1:\"Jan\",2:\"Feb\",3:\"Mar\"}\n",
        "print(f'The first month in a year is {months[1]}') # watch the key and positioning. Dictionary key always comes in dictionairy. No index to worry about\n"
      ],
      "metadata": {
        "colab": {
          "base_uri": "https://localhost:8080/"
        },
        "id": "l0rGFptzkxgr",
        "outputId": "9cbddd56-4b0e-4df3-bb7e-45edcfbb2279"
      },
      "execution_count": null,
      "outputs": [
        {
          "output_type": "stream",
          "name": "stdout",
          "text": [
            "The first month in a year is Jan\n"
          ]
        }
      ]
    },
    {
      "cell_type": "code",
      "source": [
        "months = {}\n",
        "L1 = [1,2,3,4,5,6,7,8,9,10,11,12]\n",
        "l2 = [\"January\",\"Feburary\", \"March\", \"April\",\"May\",\"June\",\"July\",\"August\",\"September\",\"October\",\"November\",\"December\"]\n",
        "for i in range(len(L1)):\n",
        "  months[L1[i]] = l2[i]\n",
        "print(months)\n"
      ],
      "metadata": {
        "colab": {
          "base_uri": "https://localhost:8080/"
        },
        "id": "muecSw_ulU6k",
        "outputId": "70f41315-d587-4fa9-b334-eff03e100eb0"
      },
      "execution_count": null,
      "outputs": [
        {
          "output_type": "stream",
          "name": "stdout",
          "text": [
            "{1: 'January', 2: 'Feburary', 3: 'March', 4: 'April', 5: 'May', 6: 'June', 7: 'July', 8: 'August', 9: 'September', 10: 'October', 11: 'November', 12: 'December'}\n"
          ]
        }
      ]
    },
    {
      "cell_type": "code",
      "source": [],
      "metadata": {
        "id": "Rr5g83FglU3G"
      },
      "execution_count": null,
      "outputs": []
    }
  ]
}
