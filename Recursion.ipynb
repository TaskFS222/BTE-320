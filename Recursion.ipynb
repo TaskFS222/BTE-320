{
  "nbformat": 4,
  "nbformat_minor": 0,
  "metadata": {
    "colab": {
      "provenance": [],
      "authorship_tag": "ABX9TyPtSovW6lS0BrOYdD0H9KV1",
      "include_colab_link": true
    },
    "kernelspec": {
      "name": "python3",
      "display_name": "Python 3"
    },
    "language_info": {
      "name": "python"
    }
  },
  "cells": [
    {
      "cell_type": "markdown",
      "metadata": {
        "id": "view-in-github",
        "colab_type": "text"
      },
      "source": [
        "<a href=\"https://colab.research.google.com/github/TaskFS222/BTE-320/blob/main/Recursion.ipynb\" target=\"_parent\"><img src=\"https://colab.research.google.com/assets/colab-badge.svg\" alt=\"Open In Colab\"/></a>"
      ]
    },
    {
      "cell_type": "code",
      "execution_count": null,
      "metadata": {
        "colab": {
          "base_uri": "https://localhost:8080/"
        },
        "id": "aFmCbXgY1uo_",
        "outputId": "04f9cfc7-2503-4339-f5b4-c4a044d9075a"
      },
      "outputs": [
        {
          "name": "stdout",
          "output_type": "stream",
          "text": [
            "Factorial input4\n"
          ]
        },
        {
          "output_type": "execute_result",
          "data": {
            "text/plain": [
              "24"
            ]
          },
          "metadata": {},
          "execution_count": 9
        }
      ],
      "source": [
        "n = int(input(\"Factorial input\"))\n",
        "def factorial(n):\n",
        "  if n == 0 or n==1:\n",
        "    return(n)\n",
        "  else:\n",
        "    return n * factorial(n-1)\n",
        "factorial(n)"
      ]
    },
    {
      "cell_type": "code",
      "source": [
        "str = input(\"Enter string to be reversed\")\n",
        "def unoreverse(str):\n",
        "  if len(str) == 1:\n",
        "    return(str)\n",
        "  else:\n",
        "    return unoreverse(str[:(2-(len(str)))])\n",
        "unoreverse(str)"
      ],
      "metadata": {
        "colab": {
          "base_uri": "https://localhost:8080/",
          "height": 53
        },
        "id": "D1_jFM4Y5MTB",
        "outputId": "a2cdeed7-3cda-4002-ad34-759c996047f0"
      },
      "execution_count": null,
      "outputs": [
        {
          "name": "stdout",
          "output_type": "stream",
          "text": [
            "Enter string to be reverseduno\n"
          ]
        },
        {
          "output_type": "execute_result",
          "data": {
            "text/plain": [
              "'un'"
            ],
            "application/vnd.google.colaboratory.intrinsic+json": {
              "type": "string"
            }
          },
          "metadata": {},
          "execution_count": 22
        }
      ]
    },
    {
      "cell_type": "code",
      "source": [
        "def mirrorstring(s):\n",
        "  if len(s) == 1:\n",
        "    return s\n",
        "  else:\n",
        "    return s[-1] + mirrorstring(s[0:-1]) # You need call to function for it to be recursion\n",
        "s = input(\"Enter reverse\")\n",
        "mirrorstring(s)"
      ],
      "metadata": {
        "colab": {
          "base_uri": "https://localhost:8080/",
          "height": 53
        },
        "id": "igY-g2LoEM_q",
        "outputId": "f9072e96-917d-4158-a0a5-e3019ef0d4c3"
      },
      "execution_count": 4,
      "outputs": [
        {
          "name": "stdout",
          "output_type": "stream",
          "text": [
            "Enter reversetacocat\n"
          ]
        },
        {
          "output_type": "execute_result",
          "data": {
            "text/plain": [
              "'tacocat'"
            ],
            "application/vnd.google.colaboratory.intrinsic+json": {
              "type": "string"
            }
          },
          "metadata": {},
          "execution_count": 4
        }
      ]
    },
    {
      "cell_type": "markdown",
      "source": [
        "Sorting:\n",
        "Team sort algorythm used by Python.\n",
        "L.sort() is a the most common way to sort a list.\n",
        "\n",
        "Buble sort is ineffective because of how it needs to wait for the result prior to test the next example.\n",
        "\n",
        "Quick Sort Approach:\n",
        "Uses a # that pivots the others into catagories\n",
        "1 pivot with numbers lower than the pivot.\n",
        "1 pivot with number equal to the pivot.\n",
        "1 pivot with numbers greater than the pivot.\n",
        "It sorts the list in list order into each pivot group.\n",
        "It sorts the smaller list that ends up with each list having only one item. Adds them all back together"
      ],
      "metadata": {
        "id": "a-P0M9v3G2Hu"
      }
    },
    {
      "cell_type": "code",
      "source": [
        "def quickSort(alist): #Lecture 7 is not on the final\n",
        "  if len(alist) < 2:\n",
        "    return alist\n",
        "  else:\n",
        "    less, equals, larger = [],[],[]\n",
        "\n",
        "    pivotIndex = len(alist) // 2\n",
        "\n",
        "    for item in alist:\n",
        "      if item < alist[pivotIndex]:\n",
        "        less.append(item)\n",
        "      elif item == alist[pivotIndex]:\n",
        "        equals.append(item)\n",
        "      else:\n",
        "        larger.append(item)\n",
        "\n",
        "    return quickSort(less) + equals + quickSort(larger)\n",
        "quickSort([8,2,3,5,6,1])"
      ],
      "metadata": {
        "colab": {
          "base_uri": "https://localhost:8080/"
        },
        "id": "lEFuniUVJQ5c",
        "outputId": "51063e2b-75ee-4eb8-d0aa-89fe6b98e37e"
      },
      "execution_count": 6,
      "outputs": [
        {
          "output_type": "execute_result",
          "data": {
            "text/plain": [
              "[1, 2, 3, 5, 6, 8]"
            ]
          },
          "metadata": {},
          "execution_count": 6
        }
      ]
    }
  ]
}