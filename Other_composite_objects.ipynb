{
  "nbformat": 4,
  "nbformat_minor": 0,
  "metadata": {
    "colab": {
      "provenance": [],
      "authorship_tag": "ABX9TyOP78M94iyD/jKSH4hVfHXd",
      "include_colab_link": true
    },
    "kernelspec": {
      "name": "python3",
      "display_name": "Python 3"
    },
    "language_info": {
      "name": "python"
    }
  },
  "cells": [
    {
      "cell_type": "markdown",
      "metadata": {
        "id": "view-in-github",
        "colab_type": "text"
      },
      "source": [
        "<a href=\"https://colab.research.google.com/github/TaskFS222/BTE-320/blob/main/Other_composite_objects.ipynb\" target=\"_parent\"><img src=\"https://colab.research.google.com/assets/colab-badge.svg\" alt=\"Open In Colab\"/></a>"
      ]
    },
    {
      "cell_type": "markdown",
      "source": [
        "Lists: Most widely used type of object\n",
        "Save and store them with anything we would like"
      ],
      "metadata": {
        "id": "18G_NZ2sb-Dp"
      }
    },
    {
      "cell_type": "code",
      "execution_count": null,
      "metadata": {
        "colab": {
          "base_uri": "https://localhost:8080/"
        },
        "id": "kf7sosLSb47g",
        "outputId": "df5fa59e-2899-47de-d7a3-0799a5ebea68"
      },
      "outputs": [
        {
          "output_type": "stream",
          "name": "stdout",
          "text": [
            "4\n"
          ]
        }
      ],
      "source": [
        "L = [1,\"two\",3.14,[5,7,9]]\n",
        "print(len(L))"
      ]
    },
    {
      "cell_type": "code",
      "source": [
        "print(L[-1])"
      ],
      "metadata": {
        "colab": {
          "base_uri": "https://localhost:8080/"
        },
        "id": "inVJmhsYdBSx",
        "outputId": "9298c67e-764c-49ed-de9a-d664950b7b20"
      },
      "execution_count": null,
      "outputs": [
        {
          "output_type": "stream",
          "name": "stdout",
          "text": [
            "[5, 7, 9]\n"
          ]
        }
      ]
    },
    {
      "cell_type": "code",
      "source": [
        "L + [\"three\",9.99,0] #Concatinate\n"
      ],
      "metadata": {
        "colab": {
          "base_uri": "https://localhost:8080/"
        },
        "id": "sZGyqmNDe6vj",
        "outputId": "e79eb3fc-d2df-466a-da42-54abcdc2a980"
      },
      "execution_count": null,
      "outputs": [
        {
          "output_type": "execute_result",
          "data": {
            "text/plain": [
              "[1, 'two', 3.14, [5, 7, 9], 'three', 9.99, 0]"
            ]
          },
          "metadata": {},
          "execution_count": 14
        }
      ]
    },
    {
      "cell_type": "code",
      "source": [
        "s = \"three\"\n",
        "s[1] = \"b\" #Lists are mutable, can be odified after you create them"
      ],
      "metadata": {
        "id": "MHeZUAxXgRN1"
      },
      "execution_count": null,
      "outputs": []
    },
    {
      "cell_type": "code",
      "source": [
        "print(L) #Example of lists being changed\n",
        "L[3] = \"b\"\n",
        "print(L)"
      ],
      "metadata": {
        "colab": {
          "base_uri": "https://localhost:8080/"
        },
        "id": "UxU3nk6ogl8H",
        "outputId": "1b3cfa11-bed1-4042-adfe-81cb6aa3836f"
      },
      "execution_count": null,
      "outputs": [
        {
          "output_type": "stream",
          "name": "stdout",
          "text": [
            "[1, 'two', 3.14, [5, 7, 9]]\n",
            "[1, 'two', 3.14, 'b']\n"
          ]
        }
      ]
    },
    {
      "cell_type": "code",
      "source": [
        "for x in L:\n",
        "  print(x)    #For loop designed for known number of iterations\n",
        "for index in range(len(L)):\n",
        "  print(L[index])\n"
      ],
      "metadata": {
        "colab": {
          "base_uri": "https://localhost:8080/"
        },
        "id": "4-hhmC-Mg8cZ",
        "outputId": "1be2798b-35dc-4ea0-e88a-47bfafb7bbb7"
      },
      "execution_count": null,
      "outputs": [
        {
          "output_type": "stream",
          "name": "stdout",
          "text": [
            "1\n",
            "two\n",
            "3.14\n",
            "b\n",
            "1\n",
            "two\n",
            "3.14\n",
            "b\n"
          ]
        }
      ]
    },
    {
      "cell_type": "code",
      "source": [
        "L2 = [[1,2,3],[4,5,6]]\n",
        "print(L2)"
      ],
      "metadata": {
        "colab": {
          "base_uri": "https://localhost:8080/"
        },
        "id": "_EHH5AkzjI0G",
        "outputId": "d71ad44e-e7e2-45e8-e85f-5464ecb85ad3"
      },
      "execution_count": null,
      "outputs": [
        {
          "output_type": "stream",
          "name": "stdout",
          "text": [
            "[[1, 2, 3], [4, 5, 6]]\n"
          ]
        }
      ]
    },
    {
      "cell_type": "code",
      "source": [
        "L2[1]\n",
        "L2[1][0]=7 #Indexing and assigning a new variable to the original 4. The 1 is to indicate the list and 0 for position in the sub list.\n",
        "print(L2)"
      ],
      "metadata": {
        "colab": {
          "base_uri": "https://localhost:8080/"
        },
        "id": "7Q6ygLYsjRbQ",
        "outputId": "43edb6b3-d10c-48be-d1f8-0203c91bd7c9"
      },
      "execution_count": null,
      "outputs": [
        {
          "output_type": "stream",
          "name": "stdout",
          "text": [
            "[[1, 2, 3], [7, 5, 6]]\n"
          ]
        }
      ]
    },
    {
      "cell_type": "code",
      "source": [
        "\n",
        "L + [\"Qwerty\"] #Concatination creates new list from scratch\n",
        "# Methods to add things to an existing list without creating a new list.\n",
        "# Variable.append(\"Whatever you are trying to add\")\n",
        "L.append([2,\"hehe\"])\n",
        "print(L)\n",
        "# .extend Adds items in a list to the original list seperately\n",
        "L.extend([\"for\",24])\n",
        "print(L)"
      ],
      "metadata": {
        "colab": {
          "base_uri": "https://localhost:8080/"
        },
        "id": "XWUiF_33vnVq",
        "outputId": "d0273e17-1a15-4aeb-c8b5-5aaaa8161495"
      },
      "execution_count": 10,
      "outputs": [
        {
          "output_type": "stream",
          "name": "stdout",
          "text": [
            "[1, 'two', 3.14, [5, 7, 9], [2, 'hehe']]\n",
            "[1, 'two', 3.14, [5, 7, 9], [2, 'hehe'], 'for', 24]\n"
          ]
        }
      ]
    },
    {
      "cell_type": "code",
      "source": [
        "#Removing a part from a list. Using method .pop (Has default of -1)\n",
        "L = [1,\"two\",3.14,[5,7,9]]\n",
        "L.pop(2)\n",
        "print(L)"
      ],
      "metadata": {
        "colab": {
          "base_uri": "https://localhost:8080/"
        },
        "id": "d_9zAtDkyq4G",
        "outputId": "4fcc1b2e-fdc1-4ef9-c8e7-928804dc3642"
      },
      "execution_count": 17,
      "outputs": [
        {
          "output_type": "stream",
          "name": "stdout",
          "text": [
            "[1, 'two', [5, 7, 9]]\n"
          ]
        }
      ]
    },
    {
      "cell_type": "code",
      "source": [
        "L = []\n",
        "while True:\n",
        "  userint = int(input(\"Insert int to add to list\"))\n",
        "  if userint == 0:\n",
        "    break\n",
        "  else:\n",
        "    L.append(userint)\n",
        "print(L)"
      ],
      "metadata": {
        "colab": {
          "base_uri": "https://localhost:8080/"
        },
        "id": "oVxQ5_hLz9bA",
        "outputId": "38755601-748f-4825-be0e-4094cda79df9"
      },
      "execution_count": 47,
      "outputs": [
        {
          "output_type": "stream",
          "name": "stdout",
          "text": [
            "Insert int to add to list3\n",
            "Insert int to add to list0\n",
            "[3]\n"
          ]
        }
      ]
    },
    {
      "cell_type": "markdown",
      "source": [],
      "metadata": {
        "id": "88ZICY9oe6br"
      }
    },
    {
      "cell_type": "markdown",
      "source": [],
      "metadata": {
        "id": "xrT-IJewdA_7"
      }
    }
  ]
}