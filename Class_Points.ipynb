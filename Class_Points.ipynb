{
  "nbformat": 4,
  "nbformat_minor": 0,
  "metadata": {
    "colab": {
      "provenance": [],
      "authorship_tag": "ABX9TyNvaw33kt8GU9KFA9Og33T3",
      "include_colab_link": true
    },
    "kernelspec": {
      "name": "python3",
      "display_name": "Python 3"
    },
    "language_info": {
      "name": "python"
    }
  },
  "cells": [
    {
      "cell_type": "markdown",
      "metadata": {
        "id": "view-in-github",
        "colab_type": "text"
      },
      "source": [
        "<a href=\"https://colab.research.google.com/github/TaskFS222/BTE-320/blob/main/Class_Points.ipynb\" target=\"_parent\"><img src=\"https://colab.research.google.com/assets/colab-badge.svg\" alt=\"Open In Colab\"/></a>"
      ]
    },
    {
      "cell_type": "code",
      "execution_count": 21,
      "metadata": {
        "colab": {
          "base_uri": "https://localhost:8080/"
        },
        "id": "tNyOd_SO6mDC",
        "outputId": "8e3a2f3c-60b5-4378-d155-6a36dc704727"
      },
      "outputs": [
        {
          "output_type": "stream",
          "name": "stdout",
          "text": [
            "5.0\n",
            "1.1791476456813665\n"
          ]
        }
      ],
      "source": [
        "class Point:\n",
        "  def __init__(self,x,y):\n",
        "    self.x = x\n",
        "    self.y = y\n",
        "  def distance(self,other):\n",
        "    x_diff = (self.x-other.x)**2\n",
        "    y_diff = (self.y-other.y)**2\n",
        "    d = (x_diff+y_diff)**.5\n",
        "    return(d)\n",
        "\n",
        "p1 = Point(3,4)\n",
        "p2 = Point(6,8)\n",
        "print(p1.distance(p2))\n",
        "\n",
        "class Point3D(Point):\n",
        "  def __init__(self,x,y,z):\n",
        "    super().__init__(x,y)\n",
        "    self.z = z\n",
        "  def distance(self,other):\n",
        "    x_diff = (self.x-other.x)**2\n",
        "    y_diff = (self.y-other.y)**2\n",
        "    z_diff = (self.z -other.z)**2\n",
        "    return (x_diff + y_diff+z_diff)**.05\n",
        "\n",
        "p3d_1 = Point3D(1,2,3)\n",
        "p3d_2 = Point3D(4,5,6)\n",
        "print(p3d_1.distance(p3d_2))"
      ]
    },
    {
      "cell_type": "code",
      "source": [
        "class Animal:\n",
        "  def __init__(self,legs):\n",
        "    print(\"Animal Created\")\n",
        "    self.legs = legs\n",
        "  def whoAmI(self):\n",
        "    print(\"I'm an animal\")\n",
        "\n",
        "class Bird(Animal):\n",
        "  def __init__(self,legs,wings):\n",
        "    print(\"Bird Created\")\n",
        "    super().__init__(legs)\n",
        "    self.wings = wings\n",
        "  def fly(self):\n",
        "    print(\"Birds can fly\")\n",
        "\n",
        "a = Animal(4)\n",
        "b = Bird(2,2)\n",
        "b.whoAmI()\n",
        "b.fly()"
      ],
      "metadata": {
        "colab": {
          "base_uri": "https://localhost:8080/"
        },
        "id": "QWR9Z4T99L0m",
        "outputId": "c598d1b8-02cb-4571-904b-48979a541d15"
      },
      "execution_count": 13,
      "outputs": [
        {
          "output_type": "stream",
          "name": "stdout",
          "text": [
            "Animal Created\n",
            "Bird Created\n",
            "Animal Created\n",
            "I'm an animal\n",
            "Birds can fly\n"
          ]
        }
      ]
    }
  ]
}