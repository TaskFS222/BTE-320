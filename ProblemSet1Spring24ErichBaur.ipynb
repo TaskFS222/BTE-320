{
  "nbformat": 4,
  "nbformat_minor": 0,
  "metadata": {
    "colab": {
      "provenance": [],
      "include_colab_link": true
    },
    "kernelspec": {
      "name": "python3",
      "display_name": "Python 3"
    },
    "language_info": {
      "name": "python"
    }
  },
  "cells": [
    {
      "cell_type": "markdown",
      "metadata": {
        "id": "view-in-github",
        "colab_type": "text"
      },
      "source": [
        "<a href=\"https://colab.research.google.com/github/TaskFS222/BTE-320/blob/main/ProblemSet1Spring24ErichBaur.ipynb\" target=\"_parent\"><img src=\"https://colab.research.google.com/assets/colab-badge.svg\" alt=\"Open In Colab\"/></a>"
      ]
    },
    {
      "cell_type": "markdown",
      "source": [
        "# Problem Set 2"
      ],
      "metadata": {
        "id": "mqKVIuY-mxNU"
      }
    },
    {
      "cell_type": "markdown",
      "source": [
        "## Assignment 1: Quality Control (7 points)\n",
        "\n",
        "A quality control manager would like to find the average weight of a list of weights. Prior experience indicates that the first two measures are atypical, and the practice is to exclude these from the average calculation.\n",
        "\n",
        "Write a program that calculates the average of a list of numbers that given as inputs from the user, excluding the first two values.\n",
        "\n",
        "For your program, you must define and use the following functions:\n",
        "- `getValues(n)`: Prompt the user for `n` values, returns the list\n",
        "- `calcAverage(alist)`: Calculates the average from the list"
      ],
      "metadata": {
        "id": "-RSYW1jVm08n"
      }
    },
    {
      "cell_type": "code",
      "execution_count": null,
      "metadata": {
        "id": "AqbgJkgNmvQw",
        "colab": {
          "base_uri": "https://localhost:8080/"
        },
        "outputId": "30228a08-1637-465d-95fc-ed27bfa7fae4"
      },
      "outputs": [
        {
          "name": "stdout",
          "output_type": "stream",
          "text": [
            "Enter the amount of n values (At least 3)6\n",
            "Enter data value)4\n",
            "Enter data value)4\n",
            "Enter data value)4\n",
            "Enter data value)4\n",
            "Enter data value)4\n",
            "Enter data value)4\n"
          ]
        },
        {
          "output_type": "execute_result",
          "data": {
            "text/plain": [
              "[4.0, 4.0, 4.0, 4.0]"
            ]
          },
          "metadata": {},
          "execution_count": 24
        }
      ],
      "source": [
        "# Defining getvalues\n",
        "L1 = []\n",
        "namount = int(input(\"Enter the amount of n values (At least 3)\"))\n",
        "def getvalues(n):\n",
        " for number in range(namount):\n",
        "  valuetoadd = float(input(\"Enter data value)\"))\n",
        "  L1.append(valuetoadd)\n",
        " L1.pop(0)\n",
        " L1.pop(0)\n",
        " return L1\n",
        "\n",
        "getvalues(namount)\n",
        "\n"
      ]
    },
    {
      "cell_type": "code",
      "source": [
        "L1 = [] #Defining CalcAverage\n",
        "namount = int(input(\"Enter the amount of n values (At least 3)\"))\n",
        "getvalues(n)\n",
        "def calcAverage(alist):\n",
        "  return sum(alist)/len(alist)\n",
        "calcAverage(L1)\n",
        "\n"
      ],
      "metadata": {
        "colab": {
          "base_uri": "https://localhost:8080/"
        },
        "id": "83Ewt-zeGoGa",
        "outputId": "853dab84-056e-4ccf-c360-5c4278e9c0e4"
      },
      "execution_count": null,
      "outputs": [
        {
          "name": "stdout",
          "output_type": "stream",
          "text": [
            "Enter the amount of n values (At least 3)6\n",
            "Enter data value)5\n",
            "Enter data value)4\n",
            "Enter data value)3\n",
            "Enter data value)4\n",
            "Enter data value)5\n",
            "Enter data value)5\n"
          ]
        },
        {
          "output_type": "execute_result",
          "data": {
            "text/plain": [
              "4.25"
            ]
          },
          "metadata": {},
          "execution_count": 32
        }
      ]
    },
    {
      "cell_type": "code",
      "source": [
        "L1 = [] #final Program\n",
        "namount = int(input(\"Enter the amount of n values (At least 3)\"))\n",
        "getvalues(n)\n",
        "calcAverage(L1)"
      ],
      "metadata": {
        "colab": {
          "base_uri": "https://localhost:8080/"
        },
        "id": "XdDVb2IkFst-",
        "outputId": "6248b143-0474-4546-c79f-e77e183804f1"
      },
      "execution_count": null,
      "outputs": [
        {
          "name": "stdout",
          "output_type": "stream",
          "text": [
            "Enter the amount of n values (At least 3)7\n",
            "Enter data value)3\n",
            "Enter data value)4\n",
            "Enter data value)1\n",
            "Enter data value)1\n",
            "Enter data value)1\n",
            "Enter data value)1\n",
            "Enter data value)1\n"
          ]
        },
        {
          "output_type": "execute_result",
          "data": {
            "text/plain": [
              "1.0"
            ]
          },
          "metadata": {},
          "execution_count": 33
        }
      ]
    },
    {
      "cell_type": "markdown",
      "source": [
        "## Assignment 2: Country Statistics Lookup-Multiple Measures (6 points)\n",
        "\n",
        "Assume a program begins with the statement:\n",
        "\n",
        "```python\n",
        "allData = { # dictionary of values for countries\n",
        "    'US': {'pop':325.7, 'gdp': 19.39, 'ccy': 'USD', 'fx':  1.0},\n",
        "    'CA': {'pop': 36.5, 'gdp':  1.65, 'ccy': 'CAD', 'fx':  1.35},\n",
        "    'MX': {'pop':129.2, 'gdp':  1.15, 'ccy': 'MXN', 'fx': 19.68}\n",
        "    }\n",
        "```\n",
        "\n",
        "Write subsequent statements that (in a loop) prompt the user for a country code (`US`, `CA`, or `MX`), then prompt for a measure name (`pop`, `gdp`, `ccy`, or `fx`), then look up in the above dictionary for the corresponding value, and display it.\n",
        "\n",
        "Example run:\n",
        "```\n",
        "Please enter a country code: CA\n",
        "Please enter a statistic: pop\n",
        "CA pop = 36.5\n",
        "```\n",
        "\n",
        "Your program should handle the cases where a user-entered country code or measure name is not found."
      ],
      "metadata": {
        "id": "QFO0Kzx8ncnv"
      }
    },
    {
      "cell_type": "code",
      "source": [
        "allData = { # Dictionairy Definition\n",
        "    \"US\" : {\"pop\": 325.7, 'gdp': 19.39,'ccy':\"USD\",'fx':1.0},\n",
        "    \"CA\" : {'pop': 36.5, 'gdp':  1.65, 'ccy': 'CAD', 'fx':  1.35},\n",
        "    \"MX\" : {'pop':129.2, 'gdp':  1.15, 'ccy': 'MXN', 'fx': 19.68}\n",
        "    }\n",
        "countrylookup = input(\"Enter Country Code\") # Enter input code\n",
        "if countrylookup in allData.keys(): #Check if input code is in the keys of any item in the dictionairy\n",
        "  statlookup = str(input(\"Enter statistical value desired\")) #Ask what stat value the user is looking for\n",
        "  if statlookup in allData[countrylookup].keys(): #Checks to confirm value is in the keys of the country dictionairy\n",
        "    print(allData[countrylookup].get(statlookup)) #Print the value that corispondes with the key entered.\n",
        "  else:\n",
        "    print(\"Pick a real stat\")\n",
        "else:\n",
        "  print(\"Pick a real country\")"
      ],
      "metadata": {
        "id": "NZFjRINKowEW",
        "colab": {
          "base_uri": "https://localhost:8080/"
        },
        "outputId": "be74f522-e878-42ec-d354-61aefd800169"
      },
      "execution_count": null,
      "outputs": [
        {
          "output_type": "stream",
          "name": "stdout",
          "text": [
            "Enter Country CodeUS\n",
            "Enter statistical value desiredpop\n",
            "325.7\n"
          ]
        }
      ]
    },
    {
      "cell_type": "markdown",
      "source": [
        "## Assignment 3: Parking Garage (6 points)\n",
        "\n",
        "Write a program to compute the fee for parking in a garage for a number of hours.\n",
        "\n",
        "The program should:\n",
        "- Prompt the user for how many hours parked\n",
        "- Calculate the fee based on the following rules:\n",
        "  - $2.50/hour\n",
        "\n",
        "  - minimum fee is $6.00\n",
        "\n",
        "  - maximum fee is $20.00\n",
        "- Print the result\n",
        "\n",
        "For your program, define and use the following two functions:\n",
        "```python\n",
        "# use input() to prompt for the # of hours parked, return this value\n",
        "def getParkingHours()\n",
        "\n",
        "# takes as input hours (a number), returns the parking fee\n",
        "def calcParkingFee()\n",
        "```"
      ],
      "metadata": {
        "id": "GjaUFrnfpKFf"
      }
    },
    {
      "cell_type": "code",
      "source": [
        "def getParkingHours(): #Function Creation for getParkingHours\n",
        "  parkinghours = int(input(\"Enter amount of hours you are parking for\"))\n",
        "  return(parkinghours)\n",
        "parkinghours = getParkingHours()\n",
        "def calcParkingFee(): #Function Creation for calcParkingFee\n",
        "  parkingfee = parkinghours*2.5\n",
        "  if parkingfee > 20.0:\n",
        "    return(\"Your fee is 20 dollars\")\n",
        "  elif parkingfee < 6.0:\n",
        "    return(\"Your parking fee is 6 dollars\")\n",
        "  else:\n",
        "    return(print(\"Your fee is\",parkingfee,\"dollars\"))\n",
        "calcParkingFee()"
      ],
      "metadata": {
        "colab": {
          "base_uri": "https://localhost:8080/"
        },
        "id": "inIWmL7rwYM4",
        "outputId": "7f37915d-2d2d-4b2a-f4b2-1f0bd030f064"
      },
      "execution_count": null,
      "outputs": [
        {
          "output_type": "stream",
          "name": "stdout",
          "text": [
            "Enter amount of hours you are parking for5\n",
            "Your fee is 12.5 dollars\n"
          ]
        }
      ]
    },
    {
      "cell_type": "code",
      "source": [
        "parkinghours = getParkingHours() # Final afer function creation\n",
        "calcParkingFee()\n"
      ],
      "metadata": {
        "id": "5ha4O3V5pwNN",
        "colab": {
          "base_uri": "https://localhost:8080/",
          "height": 53
        },
        "outputId": "24735487-46c9-4267-fb54-cf9f88420c86"
      },
      "execution_count": null,
      "outputs": [
        {
          "name": "stdout",
          "output_type": "stream",
          "text": [
            "Enter amount of hours you are parking for2\n"
          ]
        },
        {
          "output_type": "execute_result",
          "data": {
            "text/plain": [
              "'Your parking fee is 6 dollars'"
            ],
            "application/vnd.google.colaboratory.intrinsic+json": {
              "type": "string"
            }
          },
          "metadata": {},
          "execution_count": 35
        }
      ]
    },
    {
      "cell_type": "markdown",
      "source": [
        "## Assignment 4: Tuition (6 points)\n",
        "\n",
        "A college charges tuition according to the following:\n",
        "- 12 or more credits: $20,000/semester\n",
        "\n",
        "- 1-11 credits: $1,200 + $1,700 per credit\n",
        "\n",
        "Write a program that prompts the user for a number of credits and determines and displays the tuition for the semester. As part of your program, define and use the following function:\n",
        "```python\n",
        "def calcTuition(credits)\n",
        "```\n",
        "The function returns the tuition for a given number of credits"
      ],
      "metadata": {
        "id": "gipBObe5qm-2"
      }
    },
    {
      "cell_type": "code",
      "source": [
        "def calcTuition(credits): # Define calcTuition. Check if credits is less than 12 and calculate accordingly.\n",
        "  if credits >= 12:\n",
        "    return(\"Cost per semester is 20,000\")\n",
        "  else:\n",
        "    cost = credits*1700 + 1200\n",
        "    return(f'Your cost per semester is {cost}')\n",
        "\n",
        "credits = int(input(\"Enter how many credits you are billing for\")) # Identify credit value\n",
        "calcTuition(credits) #Use the newly defined function"
      ],
      "metadata": {
        "id": "BPcn9ywzrL8y",
        "colab": {
          "base_uri": "https://localhost:8080/",
          "height": 53
        },
        "outputId": "01671150-da82-403f-e09a-e74878158e16"
      },
      "execution_count": null,
      "outputs": [
        {
          "name": "stdout",
          "output_type": "stream",
          "text": [
            "Enter how many credits you are billing for6\n"
          ]
        },
        {
          "output_type": "execute_result",
          "data": {
            "text/plain": [
              "'Your cost per semester is 11400'"
            ],
            "application/vnd.google.colaboratory.intrinsic+json": {
              "type": "string"
            }
          },
          "metadata": {},
          "execution_count": 19
        }
      ]
    }
  ]
}