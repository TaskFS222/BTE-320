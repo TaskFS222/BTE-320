{
  "nbformat": 4,
  "nbformat_minor": 0,
  "metadata": {
    "colab": {
      "provenance": [],
      "authorship_tag": "ABX9TyP3slCCaVbnUpU6d/27QFeJ",
      "include_colab_link": true
    },
    "kernelspec": {
      "name": "python3",
      "display_name": "Python 3"
    },
    "language_info": {
      "name": "python"
    }
  },
  "cells": [
    {
      "cell_type": "markdown",
      "metadata": {
        "id": "view-in-github",
        "colab_type": "text"
      },
      "source": [
        "<a href=\"https://colab.research.google.com/github/TaskFS222/BTE-320/blob/main/Deposit_Investment_and_Mortgage.ipynb\" target=\"_parent\"><img src=\"https://colab.research.google.com/assets/colab-badge.svg\" alt=\"Open In Colab\"/></a>"
      ]
    },
    {
      "cell_type": "code",
      "execution_count": null,
      "metadata": {
        "colab": {
          "base_uri": "https://localhost:8080/"
        },
        "id": "tireqUrmRO_Y",
        "outputId": "6eee8204-c0d4-4eb2-e9ce-5d7e3236c0c5"
      },
      "outputs": [
        {
          "output_type": "stream",
          "name": "stdout",
          "text": [
            "4\n",
            "even\n"
          ]
        }
      ],
      "source": [
        "x = int(input(\"\"))\n",
        "if x%2==0:\n",
        "  print(\"even\")\n",
        "else:\n",
        "  print(\"odd\")\n"
      ]
    },
    {
      "cell_type": "code",
      "source": [
        "t = float(input(\"Insert Time Line\"))\n",
        "x = float(input(\"Initial Deposit\"))\n",
        "if x>10000:\n",
        "  a= x*((1+.035)**t)\n",
        "  print(a)\n",
        "elif x<1000:\n",
        "  b=x*((1+.0325)**t)\n",
        "  print(b)\n",
        "else:\n",
        "  c=x*((1+.03)**t)\n",
        "  print(c)"
      ],
      "metadata": {
        "colab": {
          "base_uri": "https://localhost:8080/"
        },
        "id": "mRX8xIbBRo-j",
        "outputId": "d019c222-210d-4401-cc09-ff498c8f4582"
      },
      "execution_count": null,
      "outputs": [
        {
          "output_type": "stream",
          "name": "stdout",
          "text": [
            "Insert Time Line10\n",
            "Initial Deposit14000\n",
            "19748.382648695693\n"
          ]
        }
      ]
    },
    {
      "cell_type": "code",
      "source": [
        "m = float(input(\"Insert Annual Expected Income\"))\n",
        "t = float(input(\"Insert Time Line\"))\n",
        "d = float(input(\"Initial Down Payment\"))\n",
        "x = str(input(\"Enter type of Client\"))\n",
        "if x == \"New\" or x == \"Existing\":\n",
        "  if x == \"New\":\n",
        "    ir=.03\n",
        "    f = d*((1+ir)**t)\n",
        "    print(f)\n",
        "    if f > m*.3:\n",
        "      print(\"Mortgage Burdened\")\n",
        "    else:\n",
        "      print(\"Not Mortgage Burdened\")\n",
        "  if x == \"Existing\":\n",
        "      if d>10000:\n",
        "        a= d*((1+.035)**t)\n",
        "        print(a)\n",
        "        if a > m*.3:\n",
        "          print(\"Mortgage Burdened\")\n",
        "        else:\n",
        "          print(\"Not Mortgage Burdened\")\n",
        "      elif d<1000:\n",
        "        b=d*((1+.0325)**t)\n",
        "        print(b)\n",
        "        if b > m*.3:\n",
        "          print(\"Mortgage Burdened\")\n",
        "        else:\n",
        "          print(\"Not Mortgage Burdened\")\n",
        "      else:\n",
        "        c=d*((1+.03)**t)\n",
        "        print(c)\n",
        "        if c > m*.3:\n",
        "          print(\"Mortgage Burdened\")\n",
        "        else:\n",
        "          print(\"Not Mortgage Burdened\")\n",
        "else:\n",
        "  print(\"We only accept New or Existing customer type, noob!\")\n",
        "\n"
      ],
      "metadata": {
        "colab": {
          "base_uri": "https://localhost:8080/"
        },
        "id": "Jgb-8TsGWwi9",
        "outputId": "ea0d7c0b-7bc2-4d72-da17-58a67182faa1"
      },
      "execution_count": null,
      "outputs": [
        {
          "output_type": "stream",
          "name": "stdout",
          "text": [
            "Insert Annual Expected Income100000\n",
            "Insert Time Line20\n",
            "Initial Down Payment20000\n",
            "Enter type of ClientNew\n",
            "36122.2246933883\n",
            "Mortgage Burdened\n"
          ]
        }
      ]
    },
    {
      "cell_type": "code",
      "source": [
        "sale_price = float(input(\"Insert Sale Price\"))\n",
        "Down_Payment = float(input(\"Insert Down Payment\"))\n",
        "age = int(input(\"Insert age\"))\n",
        "time_of_loan = int(input(\"Insert Year total\"))\n",
        "Annual_Household_Income = float(input(\"Insert Household Income\"))\n",
        "Current_Interest_Rate = float(input(\"Insert Current Interest Rate\"))\n",
        "if Annual_Household_Income*age < ((sale_price*(1+Current_Interest_Rate))**(time_of_loan)/100):\n",
        "  print(\"Does not qualify for consideration\")\n",
        "else:\n",
        "  print(\"Does qualify\")\n",
        "  mortgage_amount = sale_price-Down_Payment\n",
        "  print(mortgage_amount)\n",
        "\n",
        "\n",
        "\n",
        "\n"
      ],
      "metadata": {
        "colab": {
          "base_uri": "https://localhost:8080/"
        },
        "id": "bhcQGrJ8lVHk",
        "outputId": "373f3a1f-63a4-49c6-fa5c-87b87a463aad"
      },
      "execution_count": null,
      "outputs": [
        {
          "output_type": "stream",
          "name": "stdout",
          "text": [
            "Insert Sale Price150000\n",
            "Insert Down Payment30000\n",
            "Insert age24\n",
            "Insert Year total20\n",
            "Insert Household Income80000\n",
            "Insert Current Interest Rate.06\n",
            "Does not qualify for consideration\n"
          ]
        }
      ]
    }
  ]
}