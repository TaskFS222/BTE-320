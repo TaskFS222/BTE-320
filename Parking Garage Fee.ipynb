{
  "nbformat": 4,
  "nbformat_minor": 0,
  "metadata": {
    "colab": {
      "provenance": [],
      "authorship_tag": "ABX9TyNB+Pb+TYQRLo5mIL6uUn2e",
      "include_colab_link": true
    },
    "kernelspec": {
      "name": "python3",
      "display_name": "Python 3"
    },
    "language_info": {
      "name": "python"
    }
  },
  "cells": [
    {
      "cell_type": "markdown",
      "metadata": {
        "id": "view-in-github",
        "colab_type": "text"
      },
      "source": [
        "<a href=\"https://colab.research.google.com/github/TaskFS222/BTE-320/blob/main/Parking%20Garage%20Fee.ipynb\" target=\"_parent\"><img src=\"https://colab.research.google.com/assets/colab-badge.svg\" alt=\"Open In Colab\"/></a>"
      ]
    },
    {
      "cell_type": "code",
      "execution_count": null,
      "metadata": {
        "colab": {
          "base_uri": "https://localhost:8080/"
        },
        "id": "U80uuSUBlxjF",
        "outputId": "e0623773-2968-451e-ba2b-10deb6cad064"
      },
      "outputs": [
        {
          "output_type": "stream",
          "name": "stdout",
          "text": [
            "10\n",
            "10.0\n",
            "12.5\n",
            "15.0\n",
            "17.5\n",
            "20.0\n",
            "20\n",
            "20\n"
          ]
        }
      ],
      "source": [
        "\n",
        "for i in range(1,9):\n",
        " i = i * 2.5\n",
        " fee = i + 5\n",
        " if fee>20:\n",
        "  fee = 20\n",
        " elif fee<10:\n",
        "  fee = 10\n",
        "\n",
        " print(fee)\n",
        "\n"
      ]
    },
    {
      "cell_type": "code",
      "source": [
        "for x in range(1,9):\n",
        "  y=x*2.5\n",
        "  y=y+5\n",
        "  if y>20:\n",
        "    y=float(20)\n",
        "    print(x,y)\n",
        "  elif y<10:\n",
        "    y=float(10)\n",
        "    print(x,y)\n",
        "  else:\n",
        "    print(x,y)"
      ],
      "metadata": {
        "colab": {
          "base_uri": "https://localhost:8080/"
        },
        "id": "rlr3mPGco4Rk",
        "outputId": "351756b0-4bf7-4a10-b4c7-3bcc667d334b"
      },
      "execution_count": null,
      "outputs": [
        {
          "output_type": "stream",
          "name": "stdout",
          "text": [
            "1 10.0\n",
            "2 10.0\n",
            "3 12.5\n",
            "4 15.0\n",
            "5 17.5\n",
            "6 20.0\n",
            "7 20.0\n",
            "8 20.0\n"
          ]
        }
      ]
    },
    {
      "cell_type": "code",
      "source": [
        "\n",
        "i = 1\n",
        "n = 5\n",
        "while i<=n:\n",
        "  print(i)\n",
        "  i=i+1\n",
        "while i>n:\n",
        "  print(n)\n",
        "  n=n+1\n"
      ],
      "metadata": {
        "colab": {
          "base_uri": "https://localhost:8080/"
        },
        "id": "ZnMeMqhc43Ku",
        "outputId": "0e44a005-48c6-452a-87fd-567c0a4ea9a5"
      },
      "execution_count": null,
      "outputs": [
        {
          "output_type": "stream",
          "name": "stdout",
          "text": [
            "1\n",
            "2\n",
            "3\n",
            "4\n",
            "5\n",
            "5\n"
          ]
        }
      ]
    }
  ]
}