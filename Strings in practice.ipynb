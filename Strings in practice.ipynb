{
  "nbformat": 4,
  "nbformat_minor": 0,
  "metadata": {
    "colab": {
      "provenance": [],
      "authorship_tag": "ABX9TyOYIrgTh2ia/0qYvknxxiG6",
      "include_colab_link": true
    },
    "kernelspec": {
      "name": "python3",
      "display_name": "Python 3"
    },
    "language_info": {
      "name": "python"
    }
  },
  "cells": [
    {
      "cell_type": "markdown",
      "metadata": {
        "id": "view-in-github",
        "colab_type": "text"
      },
      "source": [
        "<a href=\"https://colab.research.google.com/github/TaskFS222/BTE-320/blob/main/Strings%20in%20practice.ipynb\" target=\"_parent\"><img src=\"https://colab.research.google.com/assets/colab-badge.svg\" alt=\"Open In Colab\"/></a>"
      ]
    },
    {
      "cell_type": "code",
      "execution_count": 5,
      "metadata": {
        "colab": {
          "base_uri": "https://localhost:8080/"
        },
        "id": "YOiPIeTM8Zbz",
        "outputId": "6572409b-dffe-4431-cdbd-d9ef7c697a0c"
      },
      "outputs": [
        {
          "output_type": "stream",
          "name": "stdout",
          "text": [
            "a\n",
            "b\n",
            "c\n"
          ]
        }
      ],
      "source": [
        "s = \"abc\"\n",
        "for index in s:\n",
        "  print(index)"
      ]
    },
    {
      "cell_type": "code",
      "source": [
        "s = \"Qwerty is a dog\"\n",
        "excitement = \"!\"\n",
        "e = s+ excitement\n",
        "for char in e:\n",
        "  print(char)"
      ],
      "metadata": {
        "colab": {
          "base_uri": "https://localhost:8080/"
        },
        "id": "yo-3xOKeFhPC",
        "outputId": "39a5c180-cf48-476f-fe20-bd10ecf8dc39"
      },
      "execution_count": 10,
      "outputs": [
        {
          "output_type": "stream",
          "name": "stdout",
          "text": [
            "Q\n",
            "w\n",
            "e\n",
            "r\n",
            "t\n",
            "y\n",
            " \n",
            "i\n",
            "s\n",
            " \n",
            "a\n",
            " \n",
            "d\n",
            "o\n",
            "g\n",
            "!\n"
          ]
        }
      ]
    },
    {
      "cell_type": "code",
      "source": [
        "s1 = \"abcdefg\"\n",
        "s2 = \"abdght\"\n",
        "for index in s2:\n",
        "  if index in s1:\n",
        "    print(index)"
      ],
      "metadata": {
        "colab": {
          "base_uri": "https://localhost:8080/"
        },
        "id": "JNHgFJXWGZ1B",
        "outputId": "7a67e431-df7e-4b1a-8ad7-bccc3ccef8be"
      },
      "execution_count": 30,
      "outputs": [
        {
          "output_type": "stream",
          "name": "stdout",
          "text": [
            "a\n",
            "b\n",
            "d\n",
            "g\n"
          ]
        }
      ]
    },
    {
      "cell_type": "markdown",
      "source": [],
      "metadata": {
        "id": "tKGG8BVRGZht"
      }
    },
    {
      "cell_type": "code",
      "source": [
        "s1 = \"abcdefg\"\n",
        "s2 = \"abdght\"\n",
        "for char in s2:\n",
        "  if char in s1:\n",
        "   print(char)"
      ],
      "metadata": {
        "colab": {
          "base_uri": "https://localhost:8080/"
        },
        "id": "RAvqVW5tIetN",
        "outputId": "db56f11c-a55a-4c61-e0ea-48c2547d5d2d"
      },
      "execution_count": 29,
      "outputs": [
        {
          "output_type": "stream",
          "name": "stdout",
          "text": [
            "a\n",
            "b\n",
            "d\n",
            "g\n"
          ]
        }
      ]
    },
    {
      "cell_type": "code",
      "source": [
        "s1 = \"abcdefg\"\n",
        "s2 = \"abdght\"\n",
        "for nicolasvargas in s2:\n",
        "  if nicolasvargas in s1:\n",
        "   print(nicolasvargas)"
      ],
      "metadata": {
        "colab": {
          "base_uri": "https://localhost:8080/"
        },
        "id": "g_kM41j8JTZf",
        "outputId": "8543e98b-639d-496d-b84e-173927149c77"
      },
      "execution_count": 31,
      "outputs": [
        {
          "output_type": "stream",
          "name": "stdout",
          "text": [
            "a\n",
            "b\n",
            "d\n",
            "g\n"
          ]
        }
      ]
    }
  ]
}