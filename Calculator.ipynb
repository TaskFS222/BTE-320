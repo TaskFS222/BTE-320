{
  "nbformat": 4,
  "nbformat_minor": 0,
  "metadata": {
    "colab": {
      "provenance": [],
      "authorship_tag": "ABX9TyO/B8Q6HqvE76sx1KCNCrEB",
      "include_colab_link": true
    },
    "kernelspec": {
      "name": "python3",
      "display_name": "Python 3"
    },
    "language_info": {
      "name": "python"
    }
  },
  "cells": [
    {
      "cell_type": "markdown",
      "metadata": {
        "id": "view-in-github",
        "colab_type": "text"
      },
      "source": [
        "<a href=\"https://colab.research.google.com/github/TaskFS222/BTE-320/blob/main/Calculator.ipynb\" target=\"_parent\"><img src=\"https://colab.research.google.com/assets/colab-badge.svg\" alt=\"Open In Colab\"/></a>"
      ]
    },
    {
      "cell_type": "code",
      "execution_count": null,
      "metadata": {
        "colab": {
          "base_uri": "https://localhost:8080/"
        },
        "id": "yOiztVmCbi47",
        "outputId": "920b6efc-d8ec-4620-aefe-1864c8105109"
      },
      "outputs": [
        {
          "output_type": "stream",
          "name": "stdout",
          "text": [
            "Insert Number2\n",
            "Insert Operator Symbol (+ , - , * , / , //, %, **, break)dfs\n",
            "Insert Number2\n",
            "Enter a real operator. Inventing an operator doesn't work, this applies to your love life as well\n"
          ]
        }
      ],
      "source": [
        "while True:\n",
        "  number1 = float(input(\"Insert Number\"))\n",
        "  operator = str(input(\"Insert Operator Symbol (+ , - , * , / , //, %, **, break)\"))\n",
        "  if operator == \"break\":\n",
        "    break;\n",
        "  number2 = float(input(\"Insert Number\"))\n",
        "  if operator == \"+\":\n",
        "    print(number1 + number2)\n",
        "  if operator == \"-\":\n",
        "    print(number1 - number2)\n",
        "  if operator == \"*\":\n",
        "    print(number1 * number2)\n",
        "  if operator == \"/\":\n",
        "    print(number1 / number2)\n",
        "  if operator == \"//\":\n",
        "    print(number1 // number2)\n",
        "  if operator == \"%\":\n",
        "    print(number1 % number2)\n",
        "  if operator == \"**\":\n",
        "    print(number1 ** number2)\n",
        "  else:\n",
        "    print(\"Enter a real operator. Inventing an operator doesn't work, this applies to your love life as well\")\n",
        "\n",
        ""
      ]
    }
  ]
}