{
  "nbformat": 4,
  "nbformat_minor": 0,
  "metadata": {
    "colab": {
      "provenance": [],
      "authorship_tag": "ABX9TyMeeVPygZyY6YmYHbw8LaQn",
      "include_colab_link": true
    },
    "kernelspec": {
      "name": "python3",
      "display_name": "Python 3"
    },
    "language_info": {
      "name": "python"
    }
  },
  "cells": [
    {
      "cell_type": "markdown",
      "metadata": {
        "id": "view-in-github",
        "colab_type": "text"
      },
      "source": [
        "<a href=\"https://colab.research.google.com/github/TaskFS222/BTE-320/blob/main/Input_date.ipynb\" target=\"_parent\"><img src=\"https://colab.research.google.com/assets/colab-badge.svg\" alt=\"Open In Colab\"/></a>"
      ]
    },
    {
      "cell_type": "code",
      "execution_count": 10,
      "metadata": {
        "colab": {
          "base_uri": "https://localhost:8080/"
        },
        "id": "U4fLzvpowXRM",
        "outputId": "53b95b9f-24c2-4dbc-8432-af41bc092cdf"
      },
      "outputs": [
        {
          "output_type": "stream",
          "name": "stdout",
          "text": [
            "Enter date: 02/21/202409/12/2024\n",
            "12\n",
            "09\n",
            "2024\n"
          ]
        }
      ],
      "source": [
        "user_input = str(input(\"Enter date: 02/21/2024\"))\n",
        "month = user_input[0:2]\n",
        "day = user_input[3:5]\n",
        "year =user_input[6:11]\n",
        "print(day)\n",
        "print(month)\n",
        "print(year)"
      ]
    }
  ]
}