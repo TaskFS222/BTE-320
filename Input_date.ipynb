{
  "nbformat": 4,
  "nbformat_minor": 0,
  "metadata": {
    "colab": {
      "provenance": [],
      "authorship_tag": "ABX9TyNOstAP4OGAaT14b6XNup12",
      "include_colab_link": true
    },
    "kernelspec": {
      "name": "python3",
      "display_name": "Python 3"
    },
    "language_info": {
      "name": "python"
    }
  },
  "cells": [
    {
      "cell_type": "markdown",
      "metadata": {
        "id": "view-in-github",
        "colab_type": "text"
      },
      "source": [
        "<a href=\"https://colab.research.google.com/github/TaskFS222/BTE-320/blob/main/Input_date.ipynb\" target=\"_parent\"><img src=\"https://colab.research.google.com/assets/colab-badge.svg\" alt=\"Open In Colab\"/></a>"
      ]
    },
    {
      "cell_type": "code",
      "execution_count": 15,
      "metadata": {
        "colab": {
          "base_uri": "https://localhost:8080/"
        },
        "id": "U4fLzvpowXRM",
        "outputId": "38156040-1054-4fc2-c37f-e7ec9ecaa1bd"
      },
      "outputs": [
        {
          "output_type": "stream",
          "name": "stdout",
          "text": [
            "Enter date: 02/21/202408/19/2027\n",
            "Day 19\n",
            "Month: 08\n",
            "Year: 2027\n"
          ]
        }
      ],
      "source": [
        "user_input = str(input(\"Enter date: 02/21/2024\"))\n",
        "month = user_input[0:2]\n",
        "day = user_input[3:5]\n",
        "year =user_input[6:11]\n",
        "print(\"Day\",day)\n",
        "print(\"Month:\",month)\n",
        "print(\"Year:\",year)"
      ]
    }
  ]
}